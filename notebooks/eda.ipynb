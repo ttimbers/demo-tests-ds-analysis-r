{
 "cells": [
  {
   "cell_type": "markdown",
   "id": "bdd9284f-b766-41a4-8546-08d5ba6ca06c",
   "metadata": {},
   "source": [
    "## Demo of sourcing an R function from a script\n",
    "\n",
    "Here we demonstrate how we can use the `source` function to read in a function stored in another R script contained within this repository. The function in the file `../R/count_classes.R` is named `count_classes` (it doesn't have to have the same name as the file, but it often makes sense to do this), and sourcing the file allows us to access the function in this notebook. We will demonstrate using it below to calculate the number of observations in each class of a data set."
   ]
  },
  {
   "cell_type": "code",
   "execution_count": 1,
   "id": "c3e46588-55e0-42ae-83f1-8dae38f085fc",
   "metadata": {},
   "outputs": [
    {
     "name": "stderr",
     "output_type": "stream",
     "text": [
      "── \u001b[1mAttaching core tidyverse packages\u001b[22m ──────────────────────── tidyverse 2.0.0 ──\n",
      "\u001b[32m✔\u001b[39m \u001b[34mdplyr    \u001b[39m 1.1.2     \u001b[32m✔\u001b[39m \u001b[34mreadr    \u001b[39m 2.1.4\n",
      "\u001b[32m✔\u001b[39m \u001b[34mforcats  \u001b[39m 1.0.0     \u001b[32m✔\u001b[39m \u001b[34mstringr  \u001b[39m 1.5.0\n",
      "\u001b[32m✔\u001b[39m \u001b[34mggplot2  \u001b[39m 3.4.3     \u001b[32m✔\u001b[39m \u001b[34mtibble   \u001b[39m 3.2.1\n",
      "\u001b[32m✔\u001b[39m \u001b[34mlubridate\u001b[39m 1.9.2     \u001b[32m✔\u001b[39m \u001b[34mtidyr    \u001b[39m 1.3.0\n",
      "\u001b[32m✔\u001b[39m \u001b[34mpurrr    \u001b[39m 1.0.2     \n",
      "── \u001b[1mConflicts\u001b[22m ────────────────────────────────────────── tidyverse_conflicts() ──\n",
      "\u001b[31m✖\u001b[39m \u001b[34mdplyr\u001b[39m::\u001b[32mfilter()\u001b[39m masks \u001b[34mstats\u001b[39m::filter()\n",
      "\u001b[31m✖\u001b[39m \u001b[34mdplyr\u001b[39m::\u001b[32mlag()\u001b[39m    masks \u001b[34mstats\u001b[39m::lag()\n",
      "\u001b[36mℹ\u001b[39m Use the conflicted package (\u001b[3m\u001b[34m<http://conflicted.r-lib.org/>\u001b[39m\u001b[23m) to force all conflicts to become errors\n"
     ]
    }
   ],
   "source": [
    "options(repr.matrix.max.rows = 6)\n",
    "library(tidyverse)\n",
    "source(\"../R/count_classes.R\")"
   ]
  },
  {
   "cell_type": "markdown",
   "id": "1c96053c-37ad-4322-8dd5-c6c8fd8cabb0",
   "metadata": {},
   "source": [
    "Here's some data (the Wisconsin Breast Cancer data set, originally from the [UCI machine learning repository](https://archive-beta.ics.uci.edu/ml/datasets/breast+cancer+wisconsin+diagnostic)) where we would like to calculate the number of observations in each class:"
   ]
  },
  {
   "cell_type": "code",
   "execution_count": 2,
   "id": "a7c9d81f-8b0b-46e0-88f1-692771f9ee45",
   "metadata": {},
   "outputs": [
    {
     "name": "stderr",
     "output_type": "stream",
     "text": [
      "\u001b[1mRows: \u001b[22m\u001b[34m569\u001b[39m \u001b[1mColumns: \u001b[22m\u001b[34m12\u001b[39m\n",
      "\u001b[36m──\u001b[39m \u001b[1mColumn specification\u001b[22m \u001b[36m────────────────────────────────────────────────────────\u001b[39m\n",
      "\u001b[1mDelimiter:\u001b[22m \",\"\n",
      "\u001b[31mchr\u001b[39m  (1): Class\n",
      "\u001b[32mdbl\u001b[39m (11): ID, Radius, Texture, Perimeter, Area, Smoothness, Compactness, Con...\n",
      "\n",
      "\u001b[36mℹ\u001b[39m Use `spec()` to retrieve the full column specification for this data.\n",
      "\u001b[36mℹ\u001b[39m Specify the column types or set `show_col_types = FALSE` to quiet this message.\n"
     ]
    },
    {
     "data": {
      "text/html": [
       "<table class=\"dataframe\">\n",
       "<caption>A spec_tbl_df: 569 × 12</caption>\n",
       "<thead>\n",
       "\t<tr><th scope=col>ID</th><th scope=col>Class</th><th scope=col>Radius</th><th scope=col>Texture</th><th scope=col>Perimeter</th><th scope=col>Area</th><th scope=col>Smoothness</th><th scope=col>Compactness</th><th scope=col>Concavity</th><th scope=col>Concave_Points</th><th scope=col>Symmetry</th><th scope=col>Fractal_Dimension</th></tr>\n",
       "\t<tr><th scope=col>&lt;dbl&gt;</th><th scope=col>&lt;chr&gt;</th><th scope=col>&lt;dbl&gt;</th><th scope=col>&lt;dbl&gt;</th><th scope=col>&lt;dbl&gt;</th><th scope=col>&lt;dbl&gt;</th><th scope=col>&lt;dbl&gt;</th><th scope=col>&lt;dbl&gt;</th><th scope=col>&lt;dbl&gt;</th><th scope=col>&lt;dbl&gt;</th><th scope=col>&lt;dbl&gt;</th><th scope=col>&lt;dbl&gt;</th></tr>\n",
       "</thead>\n",
       "<tbody>\n",
       "\t<tr><td>  842302</td><td>M</td><td>1.096100</td><td>-2.0715123</td><td>1.268817</td><td>0.9835095</td><td> 1.5670875</td><td> 3.2806281</td><td> 2.65054179</td><td>2.5302489</td><td>2.215565542</td><td> 2.2537638</td></tr>\n",
       "\t<tr><td>  842517</td><td>M</td><td>1.828212</td><td>-0.3533215</td><td>1.684473</td><td>1.9070303</td><td>-0.8262354</td><td>-0.4866435</td><td>-0.02382489</td><td>0.5476623</td><td>0.001391139</td><td>-0.8678888</td></tr>\n",
       "\t<tr><td>84300903</td><td>M</td><td>1.578499</td><td> 0.4557859</td><td>1.565126</td><td>1.5575132</td><td> 0.9413821</td><td> 1.0519999</td><td> 1.36227979</td><td>2.0354398</td><td>0.938858720</td><td>-0.3976580</td></tr>\n",
       "\t<tr><td>⋮</td><td>⋮</td><td>⋮</td><td>⋮</td><td>⋮</td><td>⋮</td><td>⋮</td><td>⋮</td><td>⋮</td><td>⋮</td><td>⋮</td><td>⋮</td></tr>\n",
       "\t<tr><td>926954</td><td>M</td><td> 0.7016669</td><td>2.043775</td><td> 0.6720844</td><td> 0.5774446</td><td>-0.839745</td><td>-0.03864567</td><td> 0.04654658</td><td> 0.1056844</td><td>-0.8084058</td><td>-0.8947996</td></tr>\n",
       "\t<tr><td>927241</td><td>M</td><td> 1.8367249</td><td>2.334403</td><td> 1.9807813</td><td> 1.7336925</td><td> 1.524426</td><td> 3.26926717</td><td> 3.29404559</td><td> 2.6565283</td><td> 2.1353154</td><td> 1.0427779</td></tr>\n",
       "\t<tr><td> 92751</td><td>B</td><td>-1.8068114</td><td>1.220718</td><td>-1.8127934</td><td>-1.3466044</td><td>-3.109349</td><td>-1.14974083</td><td>-1.11389274</td><td>-1.2607103</td><td>-0.8193490</td><td>-0.5605392</td></tr>\n",
       "</tbody>\n",
       "</table>\n"
      ],
      "text/latex": [
       "A spec\\_tbl\\_df: 569 × 12\n",
       "\\begin{tabular}{llllllllllll}\n",
       " ID & Class & Radius & Texture & Perimeter & Area & Smoothness & Compactness & Concavity & Concave\\_Points & Symmetry & Fractal\\_Dimension\\\\\n",
       " <dbl> & <chr> & <dbl> & <dbl> & <dbl> & <dbl> & <dbl> & <dbl> & <dbl> & <dbl> & <dbl> & <dbl>\\\\\n",
       "\\hline\n",
       "\t   842302 & M & 1.096100 & -2.0715123 & 1.268817 & 0.9835095 &  1.5670875 &  3.2806281 &  2.65054179 & 2.5302489 & 2.215565542 &  2.2537638\\\\\n",
       "\t   842517 & M & 1.828212 & -0.3533215 & 1.684473 & 1.9070303 & -0.8262354 & -0.4866435 & -0.02382489 & 0.5476623 & 0.001391139 & -0.8678888\\\\\n",
       "\t 84300903 & M & 1.578499 &  0.4557859 & 1.565126 & 1.5575132 &  0.9413821 &  1.0519999 &  1.36227979 & 2.0354398 & 0.938858720 & -0.3976580\\\\\n",
       "\t ⋮ & ⋮ & ⋮ & ⋮ & ⋮ & ⋮ & ⋮ & ⋮ & ⋮ & ⋮ & ⋮ & ⋮\\\\\n",
       "\t 926954 & M &  0.7016669 & 2.043775 &  0.6720844 &  0.5774446 & -0.839745 & -0.03864567 &  0.04654658 &  0.1056844 & -0.8084058 & -0.8947996\\\\\n",
       "\t 927241 & M &  1.8367249 & 2.334403 &  1.9807813 &  1.7336925 &  1.524426 &  3.26926717 &  3.29404559 &  2.6565283 &  2.1353154 &  1.0427779\\\\\n",
       "\t  92751 & B & -1.8068114 & 1.220718 & -1.8127934 & -1.3466044 & -3.109349 & -1.14974083 & -1.11389274 & -1.2607103 & -0.8193490 & -0.5605392\\\\\n",
       "\\end{tabular}\n"
      ],
      "text/markdown": [
       "\n",
       "A spec_tbl_df: 569 × 12\n",
       "\n",
       "| ID &lt;dbl&gt; | Class &lt;chr&gt; | Radius &lt;dbl&gt; | Texture &lt;dbl&gt; | Perimeter &lt;dbl&gt; | Area &lt;dbl&gt; | Smoothness &lt;dbl&gt; | Compactness &lt;dbl&gt; | Concavity &lt;dbl&gt; | Concave_Points &lt;dbl&gt; | Symmetry &lt;dbl&gt; | Fractal_Dimension &lt;dbl&gt; |\n",
       "|---|---|---|---|---|---|---|---|---|---|---|---|\n",
       "|   842302 | M | 1.096100 | -2.0715123 | 1.268817 | 0.9835095 |  1.5670875 |  3.2806281 |  2.65054179 | 2.5302489 | 2.215565542 |  2.2537638 |\n",
       "|   842517 | M | 1.828212 | -0.3533215 | 1.684473 | 1.9070303 | -0.8262354 | -0.4866435 | -0.02382489 | 0.5476623 | 0.001391139 | -0.8678888 |\n",
       "| 84300903 | M | 1.578499 |  0.4557859 | 1.565126 | 1.5575132 |  0.9413821 |  1.0519999 |  1.36227979 | 2.0354398 | 0.938858720 | -0.3976580 |\n",
       "| ⋮ | ⋮ | ⋮ | ⋮ | ⋮ | ⋮ | ⋮ | ⋮ | ⋮ | ⋮ | ⋮ | ⋮ |\n",
       "| 926954 | M |  0.7016669 | 2.043775 |  0.6720844 |  0.5774446 | -0.839745 | -0.03864567 |  0.04654658 |  0.1056844 | -0.8084058 | -0.8947996 |\n",
       "| 927241 | M |  1.8367249 | 2.334403 |  1.9807813 |  1.7336925 |  1.524426 |  3.26926717 |  3.29404559 |  2.6565283 |  2.1353154 |  1.0427779 |\n",
       "|  92751 | B | -1.8068114 | 1.220718 | -1.8127934 | -1.3466044 | -3.109349 | -1.14974083 | -1.11389274 | -1.2607103 | -0.8193490 | -0.5605392 |\n",
       "\n"
      ],
      "text/plain": [
       "    ID       Class Radius     Texture    Perimeter  Area       Smoothness\n",
       "1     842302 M     1.096100   -2.0715123 1.268817   0.9835095   1.5670875\n",
       "2     842517 M     1.828212   -0.3533215 1.684473   1.9070303  -0.8262354\n",
       "3   84300903 M     1.578499    0.4557859 1.565126   1.5575132   0.9413821\n",
       "⋮   ⋮        ⋮     ⋮          ⋮          ⋮          ⋮          ⋮         \n",
       "567 926954   M      0.7016669 2.043775    0.6720844  0.5774446 -0.839745 \n",
       "568 927241   M      1.8367249 2.334403    1.9807813  1.7336925  1.524426 \n",
       "569  92751   B     -1.8068114 1.220718   -1.8127934 -1.3466044 -3.109349 \n",
       "    Compactness Concavity   Concave_Points Symmetry    Fractal_Dimension\n",
       "1    3.2806281   2.65054179 2.5302489      2.215565542  2.2537638       \n",
       "2   -0.4866435  -0.02382489 0.5476623      0.001391139 -0.8678888       \n",
       "3    1.0519999   1.36227979 2.0354398      0.938858720 -0.3976580       \n",
       "⋮   ⋮           ⋮           ⋮              ⋮           ⋮                \n",
       "567 -0.03864567  0.04654658  0.1056844     -0.8084058  -0.8947996       \n",
       "568  3.26926717  3.29404559  2.6565283      2.1353154   1.0427779       \n",
       "569 -1.14974083 -1.11389274 -1.2607103     -0.8193490  -0.5605392       "
      ]
     },
     "metadata": {},
     "output_type": "display_data"
    }
   ],
   "source": [
    "cancer <- read_csv(\"https://raw.githubusercontent.com/UBC-DSCI/introduction-to-datascience/main/data/wdbc.csv\")\n",
    "cancer"
   ]
  },
  {
   "cell_type": "markdown",
   "id": "bdba55f8-aa70-4c75-893f-40de6ccda13e",
   "metadata": {},
   "source": [
    "To calculate the number observations of each class, we will use the `count_classes` function from the `../R/count_classes.R` file that we sourced in the first code cell of this notebook:"
   ]
  },
  {
   "cell_type": "code",
   "execution_count": 3,
   "id": "8fa57629-1649-4577-97b8-f166a4ca2f94",
   "metadata": {},
   "outputs": [
    {
     "data": {
      "text/html": [
       "<table class=\"dataframe\">\n",
       "<caption>A tibble: 2 × 2</caption>\n",
       "<thead>\n",
       "\t<tr><th scope=col>class</th><th scope=col>count</th></tr>\n",
       "\t<tr><th scope=col>&lt;chr&gt;</th><th scope=col>&lt;int&gt;</th></tr>\n",
       "</thead>\n",
       "<tbody>\n",
       "\t<tr><td>B</td><td>357</td></tr>\n",
       "\t<tr><td>M</td><td>212</td></tr>\n",
       "</tbody>\n",
       "</table>\n"
      ],
      "text/latex": [
       "A tibble: 2 × 2\n",
       "\\begin{tabular}{ll}\n",
       " class & count\\\\\n",
       " <chr> & <int>\\\\\n",
       "\\hline\n",
       "\t B & 357\\\\\n",
       "\t M & 212\\\\\n",
       "\\end{tabular}\n"
      ],
      "text/markdown": [
       "\n",
       "A tibble: 2 × 2\n",
       "\n",
       "| class &lt;chr&gt; | count &lt;int&gt; |\n",
       "|---|---|\n",
       "| B | 357 |\n",
       "| M | 212 |\n",
       "\n"
      ],
      "text/plain": [
       "  class count\n",
       "1 B     357  \n",
       "2 M     212  "
      ]
     },
     "metadata": {},
     "output_type": "display_data"
    }
   ],
   "source": [
    "count_classes(cancer, Class)"
   ]
  },
  {
   "cell_type": "markdown",
   "id": "172b382d-da44-42c5-a262-161fe4bd63ad",
   "metadata": {},
   "source": [
    "Ta da! Now isn't that easier to read for a human trying to understand the analysis, compared to if we included the source code for that function in this notebook?"
   ]
  }
 ],
 "metadata": {
  "kernelspec": {
   "display_name": "R",
   "language": "R",
   "name": "ir"
  },
  "language_info": {
   "codemirror_mode": "r",
   "file_extension": ".r",
   "mimetype": "text/x-r-source",
   "name": "R",
   "pygments_lexer": "r",
   "version": "4.3.1"
  }
 },
 "nbformat": 4,
 "nbformat_minor": 5
}
